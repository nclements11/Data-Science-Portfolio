{
 "cells": [
  {
   "cell_type": "markdown",
   "metadata": {},
   "source": [
    "# U.S. Medical Insurance Costs"
   ]
  },
  {
   "cell_type": "markdown",
   "metadata": {},
   "source": [
    "## Codecademy's Prompts for Analysis:\n",
    "- Find out the average age of the patients in the dataset.\n",
    "- Analyze where a majority of the individuals are from.\n",
    "- Look at the different costs between smokers vs. non-smokers.\n",
    "- Figure out what the average age is for someone who has at least one child in this dataset.\n",
    "\n",
    "## My Analysis\n",
    "- Gender: What are the average insurance costs by gender?\n",
    "- Regional Costs: What are the average insurance costs by region? Is there a region with notably higher or lower costs?\n",
    "- BMI vs. Costs: Is there a correlation between BMI and insurance costs? How does BMI affect insurance costs?\n",
    "- Age vs. Costs: How do insurance costs vary with age? Is there a noticeable trend?"
   ]
  },
  {
   "cell_type": "code",
   "execution_count": 2,
   "metadata": {},
   "outputs": [],
   "source": [
    "# import the csv and assign the data to a dictionary\n",
    "\n",
    "import csv\n",
    "\n",
    "insurance_records = {}\n",
    "with open('insurance.csv', newline='') as insurance_csv:\n",
    "    insurance_data = csv.DictReader(insurance_csv)\n",
    "    id = 1\n",
    "    for row in insurance_data:\n",
    "        insurance_records[id] = row\n",
    "        id += 1"
   ]
  },
  {
   "cell_type": "code",
   "execution_count": 69,
   "metadata": {},
   "outputs": [
    {
     "name": "stdout",
     "output_type": "stream",
     "text": [
      "The average age of a patient in this data set is 39.0\n"
     ]
    }
   ],
   "source": [
    "# Find out the average age of the patients in the dataset.\n",
    "\n",
    "def average_age(insurance_records):\n",
    "    ages = 0\n",
    "    for individual in insurance_records:\n",
    "        age = insurance_records[individual].get('age')\n",
    "        ages += int(age)\n",
    "    average_age = ages/len(insurance_records)\n",
    "    print(\"The average age of a patient in this data set is \" + str(round(average_age, 0)))\n",
    "average_age(insurance_records)"
   ]
  },
  {
   "cell_type": "code",
   "execution_count": 71,
   "metadata": {},
   "outputs": [
    {
     "name": "stdout",
     "output_type": "stream",
     "text": [
      "The number of patients in the southwest is 325, which is 24.29 percent of the sample.\n",
      "The number of patients in the southeast is 364, which is 27.2 percent of the sample.\n",
      "The number of patients in the northwest is 325, which is 24.29 percent of the sample.\n",
      "The number of patients in the northeast is 324, which is 24.22 percent of the sample.\n"
     ]
    }
   ],
   "source": [
    "# Analyze where a majority of the individuals are from.\n",
    "\n",
    "regions = {'southwest': 0, 'southeast': 0, 'northwest': 0, 'northeast':0}\n",
    "total_patients = len(insurance_records)\n",
    "\n",
    "for individual in insurance_records:\n",
    "    region = insurance_records[individual].get('region')\n",
    "    regions[region] += 1\n",
    "\n",
    "for x in regions:\n",
    "    print(\"The number of patients in the \" + x + \" is \" + str(regions[x]) + \", which is \" + str(round(regions[x]/total_patients * 100, 2)) \n",
    "          + \" percent of the sample.\")"
   ]
  },
  {
   "cell_type": "code",
   "execution_count": 73,
   "metadata": {},
   "outputs": [
    {
     "name": "stdout",
     "output_type": "stream",
     "text": [
      "There are 274 smokers in the dataset. The total cost for this group is: 8781763.52 dollars. The average cost is: 32050.23 dollars.\n",
      "There are 1064 non-smokers in the dataset. The total cost for this group is: 8974061.47 dollars. The average cost is: 8434.27 dollars.\n"
     ]
    }
   ],
   "source": [
    "# Look at the different costs between smokers vs. non-smokers.\n",
    "\n",
    "smokers = 0\n",
    "non_smokers = 0\n",
    "smoker_costs = 0\n",
    "non_smoker_costs = 0\n",
    "\n",
    "for individual in insurance_records:\n",
    "    status = insurance_records[individual].get('smoker')\n",
    "    insurance_cost = insurance_records[individual].get('charges')\n",
    "    if status == 'yes':\n",
    "        smokers += 1\n",
    "        smoker_costs += float(insurance_cost)\n",
    "    else:\n",
    "        non_smokers += 1\n",
    "        non_smoker_costs += float(insurance_cost)\n",
    "print(\"There are \" + str(smokers) + \" smokers in the dataset. The total cost for this group is: \" + str(round(smoker_costs, 2))\n",
    "      + \" dollars. The average cost is: \" + str(round(smoker_costs/smokers, 2)) + \" dollars.\")\n",
    "print(\"There are \" + str(non_smokers) + \" non-smokers in the dataset. The total cost for this group is: \" + str(round(non_smoker_costs, 2))\n",
    "      + \" dollars. The average cost is: \" + str(round(non_smoker_costs/non_smokers, 2)) + \" dollars.\")"
   ]
  },
  {
   "cell_type": "code",
   "execution_count": 8,
   "metadata": {},
   "outputs": [
    {
     "name": "stdout",
     "output_type": "stream",
     "text": [
      "The average age of a patient with at least one child is: 40.02\n"
     ]
    }
   ],
   "source": [
    "# Figure out what the average age is for someone who has at least one child in this dataset.\n",
    "\n",
    "total_ages = 0\n",
    "parents = 0\n",
    "for individual in insurance_records:\n",
    "    age_of_individual = int(insurance_records[individual].get('age'))\n",
    "    number_of_children = int(insurance_records[individual].get('children'))\n",
    "    \n",
    "    if number_of_children > 1:\n",
    "        total_ages += age_of_individual\n",
    "        parents += 1\n",
    "\n",
    "print(\"The average age of a patient with at least one child is: \" + str(round(total_ages/parents, 2)))"
   ]
  },
  {
   "cell_type": "code",
   "execution_count": 27,
   "metadata": {},
   "outputs": [
    {
     "name": "stdout",
     "output_type": "stream",
     "text": [
      "The average cost of insurance for a female is 12569.58 dollars and the average cost for a male is 13956.75 dollars\n"
     ]
    }
   ],
   "source": [
    "# Gender: What are the average insurance costs by gender?\n",
    "\n",
    "gender_costs = {'female': {'sum': 0, 'count': 0}, 'male': {'sum': 0, 'count': 0}}\n",
    "\n",
    "for individual in insurance_records:\n",
    "    sex = insurance_records[individual].get('sex')\n",
    "    cost = float(insurance_records[individual].get('charges'))\n",
    "    gender_costs[sex]['sum'] += cost\n",
    "    gender_costs[sex]['count'] += 1\n",
    "female_avg_cost = round(gender_costs['female']['sum']/gender_costs['female']['count'], 2)\n",
    "male_avg_cost = round(gender_costs['male']['sum']/gender_costs['male']['count'], 2)\n",
    "\n",
    "print(\"The average cost of insurance for a female is \" + str(female_avg_cost) + \" dollars and the average cost for a male is \" \n",
    "      + str(male_avg_cost) + \" dollars\")"
   ]
  },
  {
   "cell_type": "code",
   "execution_count": 45,
   "metadata": {},
   "outputs": [
    {
     "name": "stdout",
     "output_type": "stream",
     "text": [
      "The total cost of insurance for each region is {'southwest': 4012754.69, 'southeast': 5363689.78, 'northwest': 4035711.93, 'northeast': 4343668.61}\n",
      "The average cost of insurance for each region is {'southwest': 12346.94, 'southeast': 14735.41, 'northwest': 12417.58, 'northeast': 13406.38}\n"
     ]
    }
   ],
   "source": [
    "# Regional Costs: What are the average insurance costs by region? Is there a region with notably higher or lower costs?\n",
    "\n",
    "region_costs = {'southwest': 0, 'southeast': 0, 'northwest': 0, 'northeast':0}\n",
    "\n",
    "for individual in insurance_records:\n",
    "    region = insurance_records[individual].get('region')\n",
    "    cost = float(insurance_records[individual].get('charges'))\n",
    "    region_costs[region] += round(cost, 2)\n",
    "   \n",
    "region_costs = {region: round(total, 2) for region, total in region_costs.items()}\n",
    "print(\"The total cost of insurance for each region is \" + str(region_costs))\n",
    "\n",
    "average_region_costs = {'southwest': 0, 'southeast': 0, 'northwest': 0, 'northeast':0}\n",
    "\n",
    "for region in region_costs:\n",
    "    average_region_costs[region] = round(region_costs[region]/regions[region], 2)\n",
    "print(\"The average cost of insurance for each region is \" + str(average_region_costs))"
   ]
  },
  {
   "cell_type": "code",
   "execution_count": 8,
   "metadata": {},
   "outputs": [
    {
     "name": "stdout",
     "output_type": "stream",
     "text": [
      "The average cost of insurance for patients in the bmi range 0-18.5 is 8852.2\n",
      "The average cost of insurance for patients in the bmi range 18.5-24.9 is 10379.5\n",
      "The average cost of insurance for patients in the bmi range 24.9-39.9 is 13648.97\n",
      "The average cost of insurance for patients in the bmi range 39.9+ is 17002.78\n"
     ]
    }
   ],
   "source": [
    "min_bmi = float(\"inf\")\n",
    "max_bmi = 0\n",
    "for individual in insurance_records:\n",
    "    bmi = float(insurance_records[individual].get('bmi'))\n",
    "    if bmi < min_bmi:\n",
    "        min_bmi = bmi\n",
    "    elif bmi > max_bmi:\n",
    "        max_bmi = bmi\n",
    "\n",
    "bmi_bins = [0, 18.5, 24.9, 39.9, float(\"inf\")] \n",
    "bmi_costs = {\n",
    "    \"0-18.5\": {'sum': 0, 'count': 0},\n",
    "    \"18.5-24.9\": {'sum': 0, 'count': 0},\n",
    "    \"24.9-39.9\": {'sum': 0, 'count': 0},\n",
    "    \"39.9+\": {'sum': 0, 'count': 0}\n",
    "}\n",
    "\n",
    "for individual in insurance_records:\n",
    "    bmi = float(insurance_records[individual].get('bmi'))\n",
    "    cost = float(insurance_records[individual].get('charges'))\n",
    "    for i in range(len(bmi_bins)-1):\n",
    "        if bmi_bins[i] <= bmi < bmi_bins[i + 1]:\n",
    "            label = list(bmi_costs.keys())[i]\n",
    "            bmi_costs[label][\"sum\"] += cost\n",
    "            bmi_costs[label][\"count\"] += 1\n",
    "bmi_costs = {label: {'sum': round(data['sum'],2), 'count': data['count']} for label, data in bmi_costs.items()}\n",
    "\n",
    "for bmi in bmi_costs:\n",
    "    print(\"The average cost of insurance for patients in the bmi range \" + bmi + \" is \" \n",
    "          + str(round(bmi_costs[bmi]['sum']/bmi_costs[bmi]['count'], 2)))"
   ]
  },
  {
   "cell_type": "code",
   "execution_count": 12,
   "metadata": {},
   "outputs": [
    {
     "name": "stdout",
     "output_type": "stream",
     "text": [
      "The average cost of insurance for patients aged 18-24 is: 9011.34\n",
      "The average cost of insurance for patients aged 25-34 is: 10352.39\n",
      "The average cost of insurance for patients aged 35-44 is: 13134.17\n",
      "The average cost of insurance for patients aged 45-54 is: 15853.93\n",
      "The average cost of insurance for patients aged 55-64 is: 18513.28\n"
     ]
    }
   ],
   "source": [
    "# Age vs. Costs: How do insurance costs vary with age? Is there a noticeable trend?\n",
    "\n",
    "min_age = float(\"inf\")\n",
    "max_age = 0\n",
    "for individual in insurance_records:\n",
    "    age = int(insurance_records[individual].get('age'))\n",
    "    if age < min_age:\n",
    "        min_age = age\n",
    "    elif age > max_age:\n",
    "        max_age = age\n",
    "\n",
    "age_ranges = {\"18-24\": {'sum': 0, 'count': 0},\n",
    "              \"25-34\": {'sum': 0, 'count': 0},\n",
    "              \"35-44\": {'sum': 0, 'count': 0},\n",
    "              \"45-54\": {'sum': 0, 'count': 0},\n",
    "              \"55-64\": {'sum': 0, 'count': 0},\n",
    "             }\n",
    "age_groups = [\n",
    "    (18, 24, \"18-24\"),\n",
    "    (25, 34, \"25-34\"),\n",
    "    (35, 44, \"35-44\"),\n",
    "    (45, 54, \"45-54\"),\n",
    "    (55, 64, \"55-64\")\n",
    "]\n",
    "\n",
    "for individual in insurance_records:\n",
    "    age = int(insurance_records[individual].get('age'))\n",
    "    cost = float(insurance_records[individual].get('charges'))\n",
    "    for start, end, group in age_groups:\n",
    "        if start <= age <= end:\n",
    "            age_ranges[group]['sum'] += cost\n",
    "            age_ranges[group]['count'] += 1\n",
    "\n",
    "for group in age_ranges:\n",
    "    print(\"The average cost of insurance for patients aged \" + group + \" is: \" + str(round(age_ranges[group]['sum']/age_ranges[group]['count'],2)))"
   ]
  }
 ],
 "metadata": {
  "kernelspec": {
   "display_name": "Python 3 (ipykernel)",
   "language": "python",
   "name": "python3"
  },
  "language_info": {
   "codemirror_mode": {
    "name": "ipython",
    "version": 3
   },
   "file_extension": ".py",
   "mimetype": "text/x-python",
   "name": "python",
   "nbconvert_exporter": "python",
   "pygments_lexer": "ipython3",
   "version": "3.12.4"
  }
 },
 "nbformat": 4,
 "nbformat_minor": 4
}
