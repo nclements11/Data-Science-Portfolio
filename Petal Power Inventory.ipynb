{
 "cells": [
  {
   "cell_type": "markdown",
   "id": "7ee7b565-6aca-45f3-87c2-7bd04060f878",
   "metadata": {},
   "source": [
    "### You’re the lead data analyst for a chain of gardening stores called Petal Power. Help them analyze their inventory!"
   ]
  },
  {
   "cell_type": "markdown",
   "id": "6749fb17-b81c-4147-b1c0-ea304509e4b7",
   "metadata": {},
   "source": [
    "Data for all of the locations of Petal Power is in the file inventory.csv. Load the data into a DataFrame called inventory.\n",
    "\r\n",
    "Inspect the first 10 rows of inventory."
   ]
  },
  {
   "cell_type": "code",
   "execution_count": 4,
   "id": "c9dd12bb-bc74-4aa0-99b5-3772f3596491",
   "metadata": {},
   "outputs": [
    {
     "name": "stdout",
     "output_type": "stream",
     "text": [
      "        location  product_type         product_description  quantity  price\n",
      "0  Staten Island         seeds                       daisy         4   6.99\n",
      "1  Staten Island         seeds                  calla lily        46  19.99\n",
      "2  Staten Island         seeds                      tomato        85  13.99\n",
      "3  Staten Island  garden tools                        rake         4  13.99\n",
      "4  Staten Island  garden tools                 wheelbarrow         0  89.99\n",
      "5  Staten Island  garden tools                       spade        93  19.99\n",
      "6  Staten Island  pest_control               insect killer        74  12.99\n",
      "7  Staten Island  pest_control                 weed killer         8  23.99\n",
      "8  Staten Island       planter  20 inch terracotta planter         0  17.99\n",
      "9  Staten Island       planter      8 inch plastic planter        53   3.99\n"
     ]
    }
   ],
   "source": [
    "import pandas as pd\n",
    "\n",
    "inventory = pd.read_csv('inventory.csv')\n",
    "print(inventory.head(10))"
   ]
  },
  {
   "cell_type": "markdown",
   "id": "f03d30f4-2c84-4aaa-b1e7-0fdc8ab7800a",
   "metadata": {},
   "source": [
    "The first 10 rows represent data from your Staten Island location. Select these rows and save them to staten_island."
   ]
  },
  {
   "cell_type": "code",
   "execution_count": null,
   "id": "f45c4e0c-990a-4b0b-8368-1c17f7d3d01e",
   "metadata": {},
   "outputs": [],
   "source": [
    "staten_island = inventory[inventory['location'] == 'Staten Island']"
   ]
  },
  {
   "cell_type": "markdown",
   "id": "631584ea-f87a-4aee-9871-410e3c0cc0c6",
   "metadata": {},
   "source": [
    "A customer just emailed you asking what products are sold at your Staten Island location. Select the column product_description from staten_island and save it to the variable product_request."
   ]
  },
  {
   "cell_type": "code",
   "execution_count": null,
   "id": "55b7a8af-6ca8-4819-814d-5bc9c1cd748c",
   "metadata": {},
   "outputs": [],
   "source": [
    "product_request = staten_island.product_description"
   ]
  },
  {
   "cell_type": "markdown",
   "id": "5a4215ed-590c-4037-809b-fb7bc2e4b0ff",
   "metadata": {},
   "source": [
    "Another customer emails to ask what types of seeds are sold at the Brooklyn location.\n",
    "\n",
    "Select all rows where location is equal to Brooklyn and product_type is equal to seeds and save them to the variable seed_request."
   ]
  },
  {
   "cell_type": "code",
   "execution_count": null,
   "id": "d9b2c915-c398-42fb-94f8-40f0f4c0677b",
   "metadata": {},
   "outputs": [],
   "source": [
    "seed_request = inventory[(inventory['location'] == 'Brooklyn') & (inventory['product_type'] == 'seeds')]"
   ]
  },
  {
   "cell_type": "markdown",
   "id": "f538ecad-fe48-4685-ad8c-38b77ef29897",
   "metadata": {},
   "source": [
    "Add a column to inventory called in_stock which is True if quantity is greater than 0 and False if quantity equals 0."
   ]
  },
  {
   "cell_type": "code",
   "execution_count": null,
   "id": "b05629bd-3463-40a1-88f9-4cbe5de0cf76",
   "metadata": {},
   "outputs": [],
   "source": [
    "inventory['in_stock'] = inventory.quantity > 0"
   ]
  },
  {
   "cell_type": "markdown",
   "id": "2028d8b6-9e0a-4ac0-8c5b-8e17b3c2af64",
   "metadata": {},
   "source": [
    "Petal Power wants to know how valuable their current inventory is.\n",
    "\n",
    "Create a column called total_value that is equal to price multiplied by quantity."
   ]
  },
  {
   "cell_type": "code",
   "execution_count": null,
   "id": "f1e437d4-6a38-49d4-b5c5-fb0e5bcb6f4a",
   "metadata": {},
   "outputs": [],
   "source": [
    "inventory['total_value'] = inventory.price * inventory.quantity"
   ]
  },
  {
   "cell_type": "markdown",
   "id": "9fe203ce-1f59-4295-8d8a-0c26e09d7191",
   "metadata": {},
   "source": [
    "The Marketing department wants a complete description of each product for their catalog.\n",
    "\n",
    "The following lambda function combines product_type and product_description into a single string:"
   ]
  },
  {
   "cell_type": "code",
   "execution_count": null,
   "id": "7871872c-294f-49ea-8ebb-30c90bd9bc03",
   "metadata": {},
   "outputs": [],
   "source": [
    "combine_lambda = lambda row: \\\n",
    "    '{} - {}'.format(row.product_type,\n",
    "                     row.product_description)"
   ]
  },
  {
   "cell_type": "markdown",
   "id": "70d36ac8-6ed9-4e20-9a2e-a3eebece23dd",
   "metadata": {},
   "source": [
    "Using combine_lambda, create a new column in inventory called full_description that has the complete description of each product."
   ]
  },
  {
   "cell_type": "code",
   "execution_count": null,
   "id": "75ca2635-0bc7-48a0-93a8-edafaa7667b8",
   "metadata": {},
   "outputs": [],
   "source": [
    "inventory['full_description'] = inventory.apply(lambda row: \\\n",
    "    '{} - {}'.format(row.product_type, row.product_description),\n",
    "    axis = 1)"
   ]
  }
 ],
 "metadata": {
  "kernelspec": {
   "display_name": "Python 3 (ipykernel)",
   "language": "python",
   "name": "python3"
  },
  "language_info": {
   "codemirror_mode": {
    "name": "ipython",
    "version": 3
   },
   "file_extension": ".py",
   "mimetype": "text/x-python",
   "name": "python",
   "nbconvert_exporter": "python",
   "pygments_lexer": "ipython3",
   "version": "3.12.4"
  }
 },
 "nbformat": 4,
 "nbformat_minor": 5
}
