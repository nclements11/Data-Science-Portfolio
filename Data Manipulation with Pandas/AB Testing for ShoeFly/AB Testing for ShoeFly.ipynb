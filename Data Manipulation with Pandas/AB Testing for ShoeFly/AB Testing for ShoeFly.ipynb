{
 "cells": [
  {
   "cell_type": "markdown",
   "id": "9a8356ee-561c-4931-ba16-67ec70d48541",
   "metadata": {},
   "source": [
    "### Our favorite online shoe store, ShoeFly.com is performing an A/B Test. They have two different versions of an ad, which they have placed in emails, as well as in banner ads on Facebook, Twitter, and Google. They want to know how the two ads are performing on each of the different platforms on each day of the week. Help them analyze the data using aggregate measures."
   ]
  },
  {
   "cell_type": "markdown",
   "id": "4a0ceb4b-00fa-4b22-a417-ce8dae46f35b",
   "metadata": {},
   "source": [
    "Examine the first few rows of ad_clicks."
   ]
  },
  {
   "cell_type": "code",
   "execution_count": 3,
   "id": "4617f93b-84a4-4063-93d0-9ca71926a8c0",
   "metadata": {},
   "outputs": [
    {
     "name": "stdout",
     "output_type": "stream",
     "text": [
      "                                user_id utm_source           day  \\\n",
      "0  008b7c6c-7272-471e-b90e-930d548bd8d7     google  6 - Saturday   \n",
      "1  009abb94-5e14-4b6c-bb1c-4f4df7aa7557   facebook    7 - Sunday   \n",
      "2  00f5d532-ed58-4570-b6d2-768df5f41aed    twitter   2 - Tuesday   \n",
      "3  011adc64-0f44-4fd9-a0bb-f1506d2ad439     google   2 - Tuesday   \n",
      "4  012137e6-7ae7-4649-af68-205b4702169c   facebook    7 - Sunday   \n",
      "\n",
      "  ad_click_timestamp experimental_group  \n",
      "0               7:18                  A  \n",
      "1                NaN                  B  \n",
      "2                NaN                  A  \n",
      "3                NaN                  B  \n",
      "4                NaN                  B  \n"
     ]
    }
   ],
   "source": [
    "import pandas as pd\n",
    "\n",
    "ad_clicks = pd.read_csv('Documents/ad_clicks.csv')\n",
    "print(ad_clicks.head())"
   ]
  },
  {
   "cell_type": "markdown",
   "id": "fb3e8766-c00c-47e8-8c11-5d4bff5ff500",
   "metadata": {},
   "source": [
    "Your manager wants to know which ad platform is getting you the most views.\n",
    "\n",
    "How many views (i.e., rows of the table) came from each utm_source?"
   ]
  },
  {
   "cell_type": "code",
   "execution_count": 5,
   "id": "f4624492-677e-46ff-b020-69c7f6a70199",
   "metadata": {},
   "outputs": [
    {
     "data": {
      "text/html": [
       "<div>\n",
       "<style scoped>\n",
       "    .dataframe tbody tr th:only-of-type {\n",
       "        vertical-align: middle;\n",
       "    }\n",
       "\n",
       "    .dataframe tbody tr th {\n",
       "        vertical-align: top;\n",
       "    }\n",
       "\n",
       "    .dataframe thead th {\n",
       "        text-align: right;\n",
       "    }\n",
       "</style>\n",
       "<table border=\"1\" class=\"dataframe\">\n",
       "  <thead>\n",
       "    <tr style=\"text-align: right;\">\n",
       "      <th></th>\n",
       "      <th>utm_source</th>\n",
       "      <th>count</th>\n",
       "    </tr>\n",
       "  </thead>\n",
       "  <tbody>\n",
       "    <tr>\n",
       "      <th>0</th>\n",
       "      <td>email</td>\n",
       "      <td>255</td>\n",
       "    </tr>\n",
       "    <tr>\n",
       "      <th>1</th>\n",
       "      <td>facebook</td>\n",
       "      <td>504</td>\n",
       "    </tr>\n",
       "    <tr>\n",
       "      <th>2</th>\n",
       "      <td>google</td>\n",
       "      <td>680</td>\n",
       "    </tr>\n",
       "    <tr>\n",
       "      <th>3</th>\n",
       "      <td>twitter</td>\n",
       "      <td>215</td>\n",
       "    </tr>\n",
       "  </tbody>\n",
       "</table>\n",
       "</div>"
      ],
      "text/plain": [
       "  utm_source  count\n",
       "0      email    255\n",
       "1   facebook    504\n",
       "2     google    680\n",
       "3    twitter    215"
      ]
     },
     "execution_count": 5,
     "metadata": {},
     "output_type": "execute_result"
    }
   ],
   "source": [
    "ad_clicks.groupby('utm_source').user_id.count().reset_index().rename(columns={'user_id': 'count'})"
   ]
  },
  {
   "cell_type": "markdown",
   "id": "e0dcce96-747b-4f31-980d-a386be738733",
   "metadata": {},
   "source": [
    "If the column ad_click_timestamp is not null, then someone actually clicked on the ad that was displayed.\n",
    "\n",
    "Create a new column called is_click, which is True if ad_click_timestamp is not null and False otherwise."
   ]
  },
  {
   "cell_type": "code",
   "execution_count": 7,
   "id": "54b99289-172e-46ee-a71d-f1dd9ec6a699",
   "metadata": {},
   "outputs": [],
   "source": [
    "ad_clicks['is_click'] = ~ad_clicks.ad_click_timestamp.isnull()"
   ]
  },
  {
   "cell_type": "markdown",
   "id": "b595ca5c-ad98-4ac5-83b0-ca4b88ee5c54",
   "metadata": {},
   "source": [
    "We want to know the percent of people who clicked on ads from each utm_source.\n",
    "\n",
    "Start by grouping by utm_source and is_click and counting the number of user_id‘s in each of those groups. Save your answer to the variable clicks_by_source."
   ]
  },
  {
   "cell_type": "code",
   "execution_count": 9,
   "id": "ec41f005-fb8f-4c4f-acc4-7f093acd0957",
   "metadata": {},
   "outputs": [],
   "source": [
    "clicks_by_source = ad_clicks.groupby(['utm_source', 'is_click']).user_id.count().reset_index()"
   ]
  },
  {
   "cell_type": "markdown",
   "id": "5ac1abe6-b318-4bf7-b190-df2142cd00e8",
   "metadata": {},
   "source": [
    "Now let’s pivot the data so that the columns are is_click (either True or False), the index is utm_source, and the values are user_id.\n",
    "\n",
    "Save your results to the variable clicks_pivot."
   ]
  },
  {
   "cell_type": "code",
   "execution_count": 11,
   "id": "e9db302f-4e64-4b99-8b23-921e45d6fe06",
   "metadata": {},
   "outputs": [],
   "source": [
    "clicks_pivot = clicks_by_source.pivot(\n",
    "  columns = 'is_click',\n",
    "  index = 'utm_source',\n",
    "  values = 'user_id'\n",
    ").reset_index()"
   ]
  },
  {
   "cell_type": "markdown",
   "id": "585df87e-41c7-437e-b79a-ea023a8539e5",
   "metadata": {},
   "source": [
    "Create a new column in clicks_pivot called percent_clicked which is equal to the percent of users who clicked on the ad from each utm_source.\n",
    "\n",
    "Was there a difference in click rates for each source?"
   ]
  },
  {
   "cell_type": "code",
   "execution_count": 13,
   "id": "272cf4ed-443f-4c98-9581-9d449a7fa525",
   "metadata": {},
   "outputs": [
    {
     "name": "stdout",
     "output_type": "stream",
     "text": [
      "is_click utm_source  False  True  percent_clicked\n",
      "0             email    175    80         0.313725\n",
      "1          facebook    324   180         0.357143\n",
      "2            google    441   239         0.351471\n",
      "3           twitter    149    66         0.306977\n"
     ]
    }
   ],
   "source": [
    "clicks_pivot['percent_clicked'] = clicks_pivot[True] / (clicks_pivot[True] + clicks_pivot[False])\n",
    "print(clicks_pivot)"
   ]
  },
  {
   "cell_type": "markdown",
   "id": "f8bbb4fe-e2dd-4ad3-8d29-6bb07ac160cd",
   "metadata": {},
   "source": [
    "The column experimental_group tells us whether the user was shown Ad A or Ad B.\n",
    "\n",
    "Were approximately the same number of people shown both ads?"
   ]
  },
  {
   "cell_type": "code",
   "execution_count": 15,
   "id": "58dd2516-2a74-4c36-a158-ffa09b373421",
   "metadata": {},
   "outputs": [
    {
     "name": "stdout",
     "output_type": "stream",
     "text": [
      "  experimental_group  user_id\n",
      "0                  A      827\n",
      "1                  B      827\n"
     ]
    }
   ],
   "source": [
    "print(ad_clicks.groupby('experimental_group').\\\n",
    "user_id.count().reset_index())"
   ]
  },
  {
   "cell_type": "markdown",
   "id": "d47b913f-a7df-4dcf-ad19-ccd06c1b7d4a",
   "metadata": {},
   "source": [
    "Using the column is_click that we defined earlier, check to see if a greater percentage of users clicked on Ad A or Ad B."
   ]
  },
  {
   "cell_type": "code",
   "execution_count": 17,
   "id": "605ef901-5bef-4e7f-b83b-00b21fb420b3",
   "metadata": {},
   "outputs": [
    {
     "name": "stdout",
     "output_type": "stream",
     "text": [
      "  experimental_group  is_click  user_id\n",
      "0                  A     False      517\n",
      "1                  A      True      310\n",
      "2                  B     False      572\n",
      "3                  B      True      255\n"
     ]
    }
   ],
   "source": [
    "print(ad_clicks.groupby(['experimental_group', 'is_click']).\\\n",
    "user_id.count().reset_index())"
   ]
  },
  {
   "cell_type": "markdown",
   "id": "64baeaa2-420d-42f0-8745-544bccc2f995",
   "metadata": {},
   "source": [
    "For each group (a_clicks and b_clicks), calculate the percent of users who clicked on the ad by day.\n",
    "\n",
    "\r\n",
    "Compare the results for A and B. What happened over the course of the week\r\n",
    "\r\n",
    "Do you recommend that your company use Ad A or Ad B?"
   ]
  },
  {
   "cell_type": "code",
   "execution_count": 19,
   "id": "329855d1-df7d-49c2-a3c3-b280cbd8b426",
   "metadata": {},
   "outputs": [
    {
     "name": "stdout",
     "output_type": "stream",
     "text": [
      "is_click            day  False  True  percent_clicked\n",
      "0            1 - Monday     70    43         0.380531\n",
      "1           2 - Tuesday     76    43         0.361345\n",
      "2         3 - Wednesday     86    38         0.306452\n",
      "3          4 - Thursday     69    47         0.405172\n",
      "4            5 - Friday     77    51         0.398438\n",
      "5          6 - Saturday     73    45         0.381356\n",
      "6            7 - Sunday     66    43         0.394495\n",
      "is_click            day  False  True  percent_clicked\n",
      "0            1 - Monday     81    32         0.283186\n",
      "1           2 - Tuesday     74    45         0.378151\n",
      "2         3 - Wednesday     89    35         0.282258\n",
      "3          4 - Thursday     87    29         0.250000\n",
      "4            5 - Friday     90    38         0.296875\n",
      "5          6 - Saturday     76    42         0.355932\n",
      "6            7 - Sunday     75    34         0.311927\n"
     ]
    }
   ],
   "source": [
    "a_clicks = ad_clicks[ad_clicks.experimental_group == 'A']\n",
    "b_clicks = ad_clicks[ad_clicks.experimental_group == 'B']\n",
    "\n",
    "a_clicks_day = a_clicks.groupby(['is_click', 'day']).user_id.count().reset_index()\n",
    "a_clicks_pivot = a_clicks_day.pivot(\n",
    "  columns = 'is_click',\n",
    "  index = 'day',\n",
    "  values = 'user_id'\n",
    ").reset_index()\n",
    "a_clicks_pivot['percent_clicked'] = a_clicks_pivot[True]/(a_clicks_pivot[True] + a_clicks_pivot[False])\n",
    "\n",
    "print(a_clicks_pivot)\n",
    "\n",
    "b_clicks_day = b_clicks.groupby(['is_click', 'day']).user_id.count().reset_index()\n",
    "b_clicks_pivot = b_clicks_day.pivot(\n",
    "  columns = 'is_click',\n",
    "  index = 'day',\n",
    "  values = 'user_id'\n",
    ").reset_index()\n",
    "b_clicks_pivot['percent_clicked'] = b_clicks_pivot[True]/(b_clicks_pivot[True] + b_clicks_pivot[False])\n",
    "\n",
    "print(b_clicks_pivot)"
   ]
  },
  {
   "cell_type": "markdown",
   "id": "64c3e323-0ea1-45e7-8826-c6d7aa09e118",
   "metadata": {},
   "source": [
    "My recommendation is to use ad A. It received more clicks overall and a higher percentage of clicks per day."
   ]
  }
 ],
 "metadata": {
  "kernelspec": {
   "display_name": "Python 3 (ipykernel)",
   "language": "python",
   "name": "python3"
  },
  "language_info": {
   "codemirror_mode": {
    "name": "ipython",
    "version": 3
   },
   "file_extension": ".py",
   "mimetype": "text/x-python",
   "name": "python",
   "nbconvert_exporter": "python",
   "pygments_lexer": "ipython3",
   "version": "3.12.4"
  }
 },
 "nbformat": 4,
 "nbformat_minor": 5
}
